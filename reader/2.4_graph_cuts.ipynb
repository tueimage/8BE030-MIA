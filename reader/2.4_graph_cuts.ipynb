{
 "cells": [
  {
   "cell_type": "markdown",
   "id": "1d7968e1",
   "metadata": {},
   "source": [
    "## 2.4 Graph-cuts"
   ]
  },
  {
   "cell_type": "markdown",
   "id": "01d21905",
   "metadata": {},
   "source": [
    "We use this exercise by working through the given problem to support the understanding of algorithm and its related concepts.\n",
    "\n",
    "Below is a directed graph, showing the flow capacity for each edge. We want to compute a min-cut to find the lowest energy way to partition the graph. We can do this by computing the maximum S-T flow using the Ford-Fulkerson algorithm."
   ]
  },
  {
   "cell_type": "markdown",
   "id": "b4222e33",
   "metadata": {},
   "source": [
    "<center width=\"60%\"><img src=\"assets/graph.png\" width=\"600\"></center>"
   ]
  },
  {
   "cell_type": "markdown",
   "id": "ee889516",
   "metadata": {},
   "source": [
    "Assuming that the first augmenting path is: S → A → C → D → T and the second augmenting path is: S → B → T."
   ]
  },
  {
   "cell_type": "markdown",
   "id": "133b5449",
   "metadata": {},
   "source": [
    "a)\tDraw the residual graph after the flow is updated from the first two augmenting paths"
   ]
  },
  {
   "cell_type": "markdown",
   "id": "1fdcdcf0",
   "metadata": {},
   "source": [
    "b)\tList all possible paths that could be chosen as the third augmenting path and what their bottleneck capacities are"
   ]
  },
  {
   "cell_type": "markdown",
   "id": "a2d04394",
   "metadata": {},
   "source": [
    "c)\tWhat is the maximum flow value achievable on the graph?"
   ]
  },
  {
   "cell_type": "markdown",
   "id": "ff6de6ed",
   "metadata": {},
   "source": [
    "d)\tDraw the optimal min-cut on the original graph"
   ]
  },
  {
   "cell_type": "markdown",
   "id": "dffb6b43",
   "metadata": {},
   "source": []
  }
 ],
 "metadata": {
  "language_info": {
   "name": "python"
  }
 },
 "nbformat": 4,
 "nbformat_minor": 5
}
