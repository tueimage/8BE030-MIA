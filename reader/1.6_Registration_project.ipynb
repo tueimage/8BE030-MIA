{
 "cells": [
  {
   "cell_type": "markdown",
   "metadata": {},
   "source": [
    "# Project 1: Image registration\n",
    "\n",
    "**Contents:** <br>\n",
    "\n",
    "- [Goal](#goal)<br>\n",
    "- [Deliverables](#deliverables)<br>\n",
    "- [Assessment](#assessment)<br>\n",
    "\n",
    "- [Preliminary guided project work](#guided_work)<br>\n",
    "\n",
    "    A. [Getting started](#getting_started)<br>\n",
    "    - [Dataset](#dataset)<br>\n",
    "    - [Selecting corresponding point pairs](#selecting_point_pairs)<br>\n",
    "        \n",
    "  B. [Point-based registration](#point-based_reg)<br>\n",
    "    - [Point-based affine image registration](#affine)<br>\n",
    "    - [Evaluation of point-based affine image registration](#evaluation)<br>\n",
    "        \n",
    "  C. [Intensity-based registration](#intensity-based_reg)<br>\n",
    "    - [Comparing the results of different registration methods](#comparison)<br>\n",
    "\n",
    "- [Open-ended project work](#open-end)"
   ]
  },
  {
   "cell_type": "markdown",
   "metadata": {},
   "source": [
    "<div id=\"goal\"></div>\n",
    "\n",
    "<div style=\"float:right;margin:-5px 5px\"><img src=\"assets/read_ico.png\" width=\"42\" height=\"42\"></div> \n",
    "\n",
    "\n",
    "## Goal\n",
    "Develop Python code for point-based and intensity-based (medical) image registration. Propose and investigate a suitable research question of your choice. Use the developed code to perform image registration and evaluate and analyze the results.\n",
    "\n",
    "The dataset you will be using in the first project originates from the [MRBrainS medical image analysis challenge](http://mrbrains13.isi.uu.nl/). It consists of 18 traverse slices of MR brain scans with two different sequences: T1-weighted and T2-FLAIR (3 patients $\\times$ 3 slices per patient $\\times$ 2 modalities). Please see the [Getting started](#getting_started) assignment below for more details on the dataset.\n",
    "\n",
    "The assignment consists of two parts, as a first step there is preliminary guided project work, and as a second step you must investigate a suitable research question based on the methods you have developed. A research question based on the preliminary guided project work below, completing the programming tasks and answering the theory questions, is the minimal solution to this project. If this is done well and accompanied by a suitable report, this will be graded with a ‘sufficient’ grade. To achieve higher grades, you need to go beyond the minimal solution. You should use what you have implemented and the available data to come up with and answer a suitable research question. Write about this in your report.\n",
    "\n",
    "<div id=\"deliverables\"></div>\n",
    "\n",
    "## Deliverables\n",
    "A completed version of this notebook, the documented python code that you developed, and a report describing your research question, results and analysis. The report is expected in a short, concise format. It focusses on your specific research questions, results and discussion. The lecturers already know the background, the data and the general methodology. Your report therefore does not need to include an introduction on the clinical problem nor explanations of the background of image registration. You do have to include your design choices and motivation thereof.\n",
    "\n",
    "Aim to present your most important findings in the main body of the report and (if needed) any additional information in an appendix. The following report structure is suggested for the main body of the report:\n",
    "\n",
    "1. Introduce research question and hypothesis with its motivation (0.5 page)\n",
    "2. Study design: which data did you use, what are the requirements of your method,\n",
    "why did you make certain choices. Be as complete as possible w.r.t. the components\n",
    "of a study design. (0.5 page)\n",
    "3. Method, experiments and results for each research question (2 pages)\n",
    "4. Discussion section with analysis of the results. (1 page)\n",
    "5. Contributions: a brief description by each group member of their activities in the project which can be used to to adjust individual grades to reflect a student’s (lack of) contribution to the group\n",
    "6. If you use large language models (such as ChatGPT) in your course work, you are required to declare how and for what they were used and to include a reflection on the use of such tools.\n",
    "\n",
    "The page lengths above are indications. You are free to adapt them, with the constraint of a maximum length of five pages for the first four items listed.\n",
    "\n",
    "The report must be submitted as a single PDF file. The documented code must be submitted as a single archive file (e.g. zip or 7z) that is self-contained and can be used to reproduce the results in the report. \n",
    "\n",
    "Note that there is no single correct solution for the project. You have to demonstrate to the reader that you understand the methods that you have studied and can critically analyze the results of applying the methods. Below, you can find a set of assignments (guided project work) that will help you get started with the project work and, when correctly completed, will present you with a **minimal solution**. Solutions which go beyond these assignments are of course encouraged. Additionally, include the solutions to the preliminary guided project work within this notebook in the archive file. \n",
    "<div id=\"assessment\"></div>\n",
    "\n",
    "## Assessment\n",
    "The rubric that will be used for assessment of the project work is given in [this table](https://github.com/tueimage/8BE030-MIA/blob/master/rubric.md). Please check this carefully!"
   ]
  },
  {
   "cell_type": "code",
   "execution_count": null,
   "metadata": {},
   "outputs": [],
   "source": [
    "%load_ext autoreload\n",
    "%autoreload 2"
   ]
  },
  {
   "cell_type": "markdown",
   "metadata": {},
   "source": [
    "<div id='guided_work'></div>\n",
    "\n",
    "## Preliminary guided project work\n",
    "\n",
    "<div id=\"getting_started\"></div>\n",
    "<div style=\"float:right;margin:-5px 5px\"><img src=\"assets/read_ico.png\" width=\"42\" height=\"42\"></div> \n",
    "\n",
    "### A. Getting started\n",
    "As an introduction, you will get familiar with the dataset that will be used in the first project and the control point selection tool that can be used to annotate corresponding points in pairs of related images. The annotated points can later be used to perform point-based registration and evaluation of the registration error."
   ]
  },
  {
   "cell_type": "markdown",
   "metadata": {},
   "source": [
    "<div id=\"dataset\"></div>\n",
    "\n",
    "### Dataset\n",
    "\n",
    "The image dataset is located in the [image_data](https://github.com/tueimage/8BE030-MIA/tree/master/data/image_data) subfolder of the code for the registration exercises and project. The image filenames have the following format: `{Patient ID}_{Slice ID}_{Sequence}.tif`. For example, the filename `3_2_t1.tif` is the second slice from a T1-weighted scan of the third patient. Every T1 slice comes in two versions: original and transformed with some random transformation that can be identified with the `_d` suffix in the filename. This simulates a registration problem where you have to register two image acquisitions of the same patient (note however that some of the transformations that were used to simulate the second set of images are not realistic for brain imaging, e.g. brain scans typically do not encounter shearing between consecutive acquisitions).\n",
    "\n",
    "<div style=\"float:right;margin:-5px 5px\"><img src=\"assets/question_ico.png\" width=\"42\" height=\"42\"></div> \n",
    "\n",
    "### *Question 1*:\n",
    "\n",
    "With this dataset we can define two image registration problems: T1 to T1 registration (e.g. register `3_2_t1_d.tif` to `3_2_t1.tif`) and T2 to T1 registration (e.g. register `3_2_t2.tif` to `3_2_t1.tif`). Which one of these can be considered inter-modal image registration and which one intra-modal image registration?"
   ]
  },
  {
   "cell_type": "markdown",
   "metadata": {},
   "source": [
    "<div id=\"selecting_point_pairs\"></div>\n",
    "\n",
    "### Selecting corresponding point pairs\n",
    "\n",
    "A function called `cpselect` is provided to select control points in two different images. This function provides two numpy arrays of cartesian coordinates, one array for each image, of points selected in the two images. The coordinate format is a numpy array with the X and Y on row 0 and 1 respectively, and each column being a point.\n",
    "\n",
    "Calling the function will cause a new interactive window to pop up, where you will see your two images and some instructions.\n",
    "For convenience, the instructions can also be found below:\n",
    "\n",
    "* First select a point in Image 1 and then its corresponding point in Image 2. This pattern should be repeated for as many control points as you need. If you do not follow this pattern, the output arrays will be incorrect.\n",
    "* Left Mouse Button to create a point. \n",
    "* Right Mouse Button/Delete/Backspace to remove the newest point. \n",
    "* Middle Mouse Button/Enter to finish placing points. "
   ]
  },
  {
   "cell_type": "markdown",
   "metadata": {},
   "source": [
    "<div style=\"float:right;margin:-5px 5px\"><img src=\"assets/todo_ico.png\" width=\"42\" height=\"42\"></div> \n",
    "\n",
    "### *Task 1*:\n",
    "\n",
    "Test the functionality of `cpselect` by running the following code example:"
   ]
  },
  {
   "cell_type": "code",
   "execution_count": null,
   "metadata": {
    "scrolled": false
   },
   "outputs": [],
   "source": [
    "import sys\n",
    "sys.path.append(\"../code\")\n",
    "import registration_util as util\n",
    "\n",
    "I_path = '../data/image_data/1_1_t1.tif'\n",
    "Im_path = '../data/image_data/1_1_t1_d.tif'\n",
    "\n",
    "X, Xm = util.cpselect(I_path, Im_path)\n",
    "\n",
    "print('X:\\n{}'.format(X))\n",
    "print('Xm:\\n{}'.format(Xm))"
   ]
  },
  {
   "cell_type": "markdown",
   "metadata": {},
   "source": [
    "<div id=\"point-based_reg\"></div>\n",
    "\n",
    "## B. Point-based registration\n",
    "\n",
    "<div style=\"float:right;margin:-5px 5px\"><img src=\"assets/todo_ico.png\" width=\"42\" height=\"42\"></div> \n",
    "\n",
    "<div id=\"affine\"></div>\n",
    "\n",
    "### Point-based affine image registration\n",
    "\n",
    "From the provided dataset for this project, select one pair of T1 image slices (e.g. `3_2_t1.tif` and `3_2_t1_d.tif`) and use `my_cpselect` to select a set of corresponding points. Then, compute the affine transformation between the pair of images with `ls_affine` and apply it to the moving image using `image_transform`. \n",
    "\n",
    "Repeat the same for a pair of corresponding T1 and T2 slices (e.g. `3_2_t1.tif` and `3_2_t2.tif`)."
   ]
  },
  {
   "cell_type": "markdown",
   "metadata": {},
   "source": [
    "<div id=\"evaluation\"></div>\n",
    "\n",
    "### Evaluation of point-based affine image registration\n",
    "\n",
    "<div style=\"float:right;margin:-5px 5px\"><img src=\"assets/question_ico.png\" width=\"42\" height=\"42\"></div> \n",
    "\n",
    "### *Question 2*:\n",
    "Describe how you would estimate the registration error. (Hint: Should you use the same points that you used for computing the affine transformation to also compute the registration error?) How does the number of corresponding point pairs affect the registration error? Motivate all your answers."
   ]
  },
  {
   "cell_type": "markdown",
   "metadata": {},
   "source": [
    "<div id=\"intensity-based_reg\"></div>\n",
    "\n",
    "## C. Intensity-based registration\n",
    "\n",
    "<div style=\"float:right;margin:-5px 5px\"><img src=\"assets/todo_ico.png\" width=\"42\" height=\"42\"></div> \n",
    "\n",
    "<div id=\"comparison\"></div>\n",
    "\n",
    "### Comparing the results of different registration methods\n",
    "\n",
    "The following Python script (provided as `intensity_based_registration_demo()`) performs rigid intensity-based registration of two images using the normalized-cross correlation as a similarity metric:"
   ]
  },
  {
   "cell_type": "code",
   "execution_count": null,
   "metadata": {},
   "outputs": [],
   "source": [
    "%matplotlib inline\n",
    "import sys\n",
    "sys.path.append(\"../code\")\n",
    "from registration_project import intensity_based_registration_demo\n",
    "\n",
    "intensity_based_registration_demo()"
   ]
  },
  {
   "cell_type": "markdown",
   "metadata": {},
   "source": [
    "<div style=\"float:right;margin:-5px 5px\"><img src=\"assets/todo_ico.png\" width=\"42\" height=\"42\"></div> \n",
    "\n",
    "### *Task 2*:\n",
    "\n",
    "By changing the similarity function and the initial parameter vector, you can also use this script to perform affine registration and use mutual information as a similarity measure. Do not forget to also change the transformation for the visualization of the results.\n",
    "\n",
    "Using the provided dataset and the functions that you have implemented in the exercises, perform the following series of experiments:\n",
    "\n",
    "1. Rigid intensity-based registration of two T1 slices (e.g. `1_1_t1.tif` and `1_1_t1_d.tif`) using normalized cross-correlation as a similarity measure.\n",
    "2. Affine intensity-based registration of two T1 slices (e.g. `1_1_t1.tif` and `1_1_t1_d.tif`) using normalized cross-correlation as a similarity measure.\n",
    "3. Affine intensity-based registration of a T1 and a T2 slice (e.g. `1_1_t1.tif` and `1_1_t2.tif`) using normalized cross-correlation as a similarity measure.\n",
    "4. Affine intensity-based registration of two T1 slices (e.g. `1_1_t1.tif` and `1_1_t1_d.tif`) using mutual information as a similarity measure.\n",
    "5. Affine intensity-based registration of a T1 slice and a T2 slice (e.g. `1_1_t1.tif` and `1_1_t2.tif`) using mutual information as a similarity measure.\n",
    "\n",
    "Compare the results from each experiment. If a method fails, describe why you think it fails. Note that you will most likely have to try different values for the learning rate in each experiment in order to find the one that works best. "
   ]
  },
  {
   "cell_type": "markdown",
   "metadata": {},
   "source": [
    "<div id=\"open-end\"></div>\n",
    "\n",
    "<div style=\"float:right;margin:-5px 5px\"><img src=\"assets/todo_ico.png\" width=\"42\" height=\"42\"></div> \n",
    "\n",
    "\n",
    "## Open-ended project work\n",
    "\n",
    "Define and motivate one research question that you will investigate. This can be a question relating to a method (e.g. what is the impact of X on a particular method) or relating to the problem (e.g. does a specific method fail in specific cases). \n",
    "It is recommended to get feedback on your research question from the teaching assistants."
   ]
  },
  {
   "cell_type": "markdown",
   "metadata": {},
   "source": []
  }
 ],
 "metadata": {
  "hide_input": false,
  "interpreter": {
   "hash": "7cf3cfb4d2a53586223bf4603cd7f9e645cf44a77dbcec96182c9a81e54296ad"
  },
  "kernelspec": {
   "display_name": "Python 3",
   "language": "python",
   "name": "python3"
  },
  "language_info": {
   "codemirror_mode": {
    "name": "ipython",
    "version": 3
   },
   "file_extension": ".py",
   "mimetype": "text/x-python",
   "name": "python",
   "nbconvert_exporter": "python",
   "pygments_lexer": "ipython3",
   "version": "3.6.12"
  }
 },
 "nbformat": 4,
 "nbformat_minor": 4
}
